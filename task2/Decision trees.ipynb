{
 "cells": [
  {
   "cell_type": "code",
   "execution_count": 38,
   "id": "3feb15b1",
   "metadata": {},
   "outputs": [],
   "source": [
    "# https://towardsdatascience.com/how-to-read-csv-file-using-pandas-ab1f5e7e7b58\n",
    "import pandas\n",
    "import numpy as np\n",
    "x_cols = ['Pclass', 'Fare', 'Age', 'Sex']\n",
    "y_cols = ['Survived']\n",
    "sex_converter = lambda sex: 0 if sex == 'male' else 1 # converting strings to numbers\n",
    "x_y = pandas.read_csv('titanic.csv', usecols=x_cols + y_cols, converters = {'Sex': sex_converter}) # to use only those columns \n",
    "x_y = x_y[x_y.Age.notnull()] # filtering all the Age NaNs "
   ]
  },
  {
   "cell_type": "code",
   "execution_count": 39,
   "id": "978078ca",
   "metadata": {},
   "outputs": [],
   "source": [
    "#having the goal variable to be predicted\n",
    "y = x_y[y_cols]\n",
    "#having the data set\n",
    "x = x_y[x_cols]"
   ]
  },
  {
   "cell_type": "code",
   "execution_count": 40,
   "id": "892fe2d2",
   "metadata": {},
   "outputs": [],
   "source": [
    "from sklearn.tree import DecisionTreeClassifier"
   ]
  },
  {
   "cell_type": "code",
   "execution_count": 77,
   "id": "279c333f",
   "metadata": {},
   "outputs": [
    {
     "name": "stdout",
     "output_type": "stream",
     "text": [
      "[0.14751816 0.29538468 0.25658495 0.30051221] \n",
      "      Pclass     Fare   Age  Sex\n",
      "0         3   7.2500  22.0    0\n",
      "1         1  71.2833  38.0    1\n",
      "2         3   7.9250  26.0    1\n",
      "3         1  53.1000  35.0    1\n",
      "4         3   8.0500  35.0    0\n",
      "..      ...      ...   ...  ...\n",
      "885       3  29.1250  39.0    1\n",
      "886       2  13.0000  27.0    0\n",
      "887       1  30.0000  19.0    1\n",
      "889       1  30.0000  26.0    0\n",
      "890       3   7.7500  32.0    0\n",
      "\n",
      "[714 rows x 4 columns]\n"
     ]
    }
   ],
   "source": [
    "clf = DecisionTreeClassifier(random_state=241) # to achieve deterministic behavior while fitting it should be integer\n",
    "clf.fit(x, y)\n",
    "importances = clf.feature_importances_\n",
    "max_value = np.amax(importances)\n",
    "max_index = np.where(importances == max_value)\n",
    "\n",
    "\n",
    "print(importances, '\\n', x)"
   ]
  },
  {
   "cell_type": "code",
   "execution_count": 75,
   "id": "b9ca7f4d",
   "metadata": {},
   "outputs": [],
   "source": [
    " with open('task2.txt', 'w') as f:\n",
    "        print('Sex,Fare', file=f, end='')"
   ]
  },
  {
   "cell_type": "code",
   "execution_count": null,
   "id": "77c719a9",
   "metadata": {},
   "outputs": [],
   "source": []
  }
 ],
 "metadata": {
  "kernelspec": {
   "display_name": "Python 3",
   "language": "python",
   "name": "python3"
  },
  "language_info": {
   "codemirror_mode": {
    "name": "ipython",
    "version": 3
   },
   "file_extension": ".py",
   "mimetype": "text/x-python",
   "name": "python",
   "nbconvert_exporter": "python",
   "pygments_lexer": "ipython3",
   "version": "3.8.8"
  }
 },
 "nbformat": 4,
 "nbformat_minor": 5
}
